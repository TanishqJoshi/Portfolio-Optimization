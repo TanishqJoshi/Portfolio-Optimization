{
  "nbformat": 4,
  "nbformat_minor": 0,
  "metadata": {
    "colab": {
      "provenance": [],
      "authorship_tag": "ABX9TyNnY1AutXfEg6URBSY+yoUs",
      "include_colab_link": true
    },
    "kernelspec": {
      "name": "python3",
      "display_name": "Python 3"
    },
    "language_info": {
      "name": "python"
    }
  },
  "cells": [
    {
      "cell_type": "markdown",
      "metadata": {
        "id": "view-in-github",
        "colab_type": "text"
      },
      "source": [
        "<a href=\"https://colab.research.google.com/github/TanishqJoshi/Portfolio-Optimization/blob/main/Portfolio_Optimization.ipynb\" target=\"_parent\"><img src=\"https://colab.research.google.com/assets/colab-badge.svg\" alt=\"Open In Colab\"/></a>"
      ]
    },
    {
      "cell_type": "code",
      "execution_count": 408,
      "metadata": {
        "id": "PdQJDbKABF1s"
      },
      "outputs": [],
      "source": [
        "import yfinance as yf\n",
        "import pandas as pd\n",
        "from datetime import datetime, timedelta\n",
        "import numpy as np\n",
        "from scipy.optimize import minimize"
      ]
    },
    {
      "cell_type": "code",
      "source": [
        "tickers = ['GLD', '^NSEI', 'VGT', 'BTC-USD', 'HDFCBANK.NS', 'RELIANCE.NS', 'AAPL', 'MSFT', 'NVDA']"
      ],
      "metadata": {
        "id": "CFfhVwSiByVN"
      },
      "execution_count": 409,
      "outputs": []
    },
    {
      "cell_type": "code",
      "source": [
        "end_date = datetime.today()\n",
        "print(end_date)"
      ],
      "metadata": {
        "colab": {
          "base_uri": "https://localhost:8080/"
        },
        "id": "QD4xtCRECB34",
        "outputId": "d9406fbd-19f2-412d-e92d-6c36dbca0086"
      },
      "execution_count": 410,
      "outputs": [
        {
          "output_type": "stream",
          "name": "stdout",
          "text": [
            "2024-04-20 14:59:56.893705\n"
          ]
        }
      ]
    },
    {
      "cell_type": "code",
      "source": [
        "start_date = end_date - timedelta(days = 5*365)\n",
        "print(start_date)"
      ],
      "metadata": {
        "colab": {
          "base_uri": "https://localhost:8080/"
        },
        "id": "zOnJgt-CCHeZ",
        "outputId": "d8ab8e33-4b9f-44a9-aec3-279c78de74d0"
      },
      "execution_count": 411,
      "outputs": [
        {
          "output_type": "stream",
          "name": "stdout",
          "text": [
            "2019-04-22 14:59:56.893705\n"
          ]
        }
      ]
    },
    {
      "cell_type": "markdown",
      "source": [],
      "metadata": {
        "id": "rDcOvq_7CQQI"
      }
    },
    {
      "cell_type": "code",
      "source": [
        "adj_close_df = pd.DataFrame()"
      ],
      "metadata": {
        "id": "5Iau7X9hCdnD"
      },
      "execution_count": 412,
      "outputs": []
    },
    {
      "cell_type": "code",
      "source": [
        "for ticker in tickers:\n",
        "    data = yf.download(ticker, start = start_date,end = end_date)\n",
        "    adj_close_df[ticker] = data['Adj Close']"
      ],
      "metadata": {
        "colab": {
          "base_uri": "https://localhost:8080/"
        },
        "id": "P-rTZERQC9b_",
        "outputId": "53bec616-39bd-4e1d-d7d6-b4b5057a4b83"
      },
      "execution_count": 413,
      "outputs": [
        {
          "output_type": "stream",
          "name": "stderr",
          "text": [
            "[*********************100%%**********************]  1 of 1 completed\n",
            "[*********************100%%**********************]  1 of 1 completed\n",
            "[*********************100%%**********************]  1 of 1 completed\n",
            "[*********************100%%**********************]  1 of 1 completed\n",
            "[*********************100%%**********************]  1 of 1 completed\n",
            "[*********************100%%**********************]  1 of 1 completed\n",
            "[*********************100%%**********************]  1 of 1 completed\n",
            "[*********************100%%**********************]  1 of 1 completed\n",
            "[*********************100%%**********************]  1 of 1 completed\n"
          ]
        }
      ]
    },
    {
      "cell_type": "code",
      "source": [
        "print(adj_close_df)"
      ],
      "metadata": {
        "colab": {
          "base_uri": "https://localhost:8080/"
        },
        "id": "LEO3EXHsDMvY",
        "outputId": "56e3c8cc-c925-4d95-e36f-e00f1250adc4"
      },
      "execution_count": 414,
      "outputs": [
        {
          "output_type": "stream",
          "name": "stdout",
          "text": [
            "                   GLD         ^NSEI         VGT       BTC-USD  HDFCBANK.NS  \\\n",
            "Date                                                                          \n",
            "2019-04-22  120.370003  11594.450195  201.595535   5399.365234  1094.567505   \n",
            "2019-04-23  120.120003  11575.950195  203.916779   5572.362305  1083.277832   \n",
            "2019-04-24  120.470001  11726.150391  204.050522   5464.866699  1099.898804   \n",
            "2019-04-25  120.570000  11641.799805  203.792557   5210.515625  1092.034668   \n",
            "2019-04-26  121.370003  11754.650391  203.362732   5279.348145  1100.477783   \n",
            "...                ...           ...         ...           ...          ...   \n",
            "2024-04-15  220.949997  22272.500000  504.890015  63426.210938  1494.699951   \n",
            "2024-04-16  221.220001  22147.900391  505.190002  63811.863281  1509.250000   \n",
            "2024-04-17  219.589996           NaN  497.690002  61276.691406          NaN   \n",
            "2024-04-18  220.339996  21995.849609  492.970001  63512.753906  1494.699951   \n",
            "2024-04-19  221.029999  22147.000000  479.899994  63843.570312  1531.300049   \n",
            "\n",
            "            RELIANCE.NS        AAPL        MSFT        NVDA  \n",
            "Date                                                         \n",
            "2019-04-22  1205.366821   49.225197  117.806198   46.797508  \n",
            "2019-04-23  1221.941895   49.935196  119.405388   47.343773  \n",
            "2019-04-24  1244.923096   49.858181  118.996063   47.467918  \n",
            "2019-04-25  1229.602295   49.405704  122.936874   46.410152  \n",
            "2019-04-26  1247.879639   49.169846  123.641296   44.220123  \n",
            "...                 ...         ...         ...         ...  \n",
            "2024-04-15  2929.649902  172.690002  413.640015  860.010010  \n",
            "2024-04-16  2931.500000  169.380005  414.579987  874.150024  \n",
            "2024-04-17          NaN  168.000000  411.839996  840.349976  \n",
            "2024-04-18  2928.649902  167.039993  404.269989  846.710022  \n",
            "2024-04-19  2940.250000  165.000000  399.119995  762.000000  \n",
            "\n",
            "[1259 rows x 9 columns]\n"
          ]
        }
      ]
    },
    {
      "cell_type": "code",
      "source": [
        "log_returns = np.log(adj_close_df / adj_close_df.shift(1))"
      ],
      "metadata": {
        "id": "GgzKsr4oDy86"
      },
      "execution_count": 415,
      "outputs": []
    },
    {
      "cell_type": "code",
      "source": [
        "log_returns = log_returns.dropna()"
      ],
      "metadata": {
        "id": "DLjypSi1Dvb6"
      },
      "execution_count": 416,
      "outputs": []
    },
    {
      "cell_type": "code",
      "source": [
        "cov_matrix = log_returns.cov() * 252\n",
        "print(cov_matrix)"
      ],
      "metadata": {
        "colab": {
          "base_uri": "https://localhost:8080/"
        },
        "id": "p-57r2HtDolo",
        "outputId": "15f95e73-98a9-4061-a8b8-5472d677419a"
      },
      "execution_count": 417,
      "outputs": [
        {
          "output_type": "stream",
          "name": "stdout",
          "text": [
            "                  GLD     ^NSEI       VGT   BTC-USD  HDFCBANK.NS  RELIANCE.NS  \\\n",
            "GLD          0.022873  0.000759  0.004958  0.017763    -0.001307     0.000086   \n",
            "^NSEI        0.000759  0.036267  0.013710  0.015836     0.039296     0.039057   \n",
            "VGT          0.004958  0.013710  0.076245  0.064282     0.012770     0.015805   \n",
            "BTC-USD      0.017763  0.015836  0.064282  0.489069     0.013355     0.013582   \n",
            "HDFCBANK.NS -0.001307  0.039296  0.012770  0.013355     0.073307     0.033584   \n",
            "RELIANCE.NS  0.000086  0.039057  0.015805  0.013582     0.033584     0.088622   \n",
            "AAPL         0.004370  0.012470  0.076765  0.055795     0.010927     0.012548   \n",
            "MSFT         0.004634  0.011030  0.075622  0.062716     0.010722     0.011740   \n",
            "NVDA         0.007443  0.015029  0.117890  0.101129     0.009968     0.021497   \n",
            "\n",
            "                 AAPL      MSFT      NVDA  \n",
            "GLD          0.004370  0.004634  0.007443  \n",
            "^NSEI        0.012470  0.011030  0.015029  \n",
            "VGT          0.076765  0.075622  0.117890  \n",
            "BTC-USD      0.055795  0.062716  0.101129  \n",
            "HDFCBANK.NS  0.010927  0.010722  0.009968  \n",
            "RELIANCE.NS  0.012548  0.011740  0.021497  \n",
            "AAPL         0.101814  0.073327  0.107421  \n",
            "MSFT         0.073327  0.092390  0.112718  \n",
            "NVDA         0.107421  0.112718  0.268678  \n"
          ]
        }
      ]
    },
    {
      "cell_type": "markdown",
      "source": [
        "**Section 5: Define Portfolio Performance Metrics**"
      ],
      "metadata": {
        "id": "VmDyMEUXEht1"
      }
    },
    {
      "cell_type": "code",
      "source": [
        "def standard_deviation(weights, cov_matrix):\n",
        "    variance = weights.T @ cov_matrix @ weights\n",
        "    return np.sqrt(variance)\n",
        "\n",
        "def expected_return(weights, log_returns):\n",
        "    return np.sum(log_returns.mean()*weights)*252\n",
        "\n",
        "def sharpe_ratio(weights, log_returns, cov_matrix, risk_free_rate):\n",
        "    return (expected_return(weights, log_returns) - risk_free_rate) / standard_deviation(weights, cov_matrix)"
      ],
      "metadata": {
        "id": "FD7DLKWTEuu5"
      },
      "execution_count": 418,
      "outputs": []
    },
    {
      "cell_type": "markdown",
      "source": [
        "**Section 6: Portfolio Optimization**"
      ],
      "metadata": {
        "id": "o7cE1slME7jc"
      }
    },
    {
      "cell_type": "code",
      "source": [
        "risk_free_rate = .02\n",
        "\n",
        "def neg_sharpe_ratio(weights, log_returns, cov_matrix, risk_free_rate):\n",
        "    return -sharpe_ratio(weights, log_returns, cov_matrix, risk_free_rate)\n",
        "\n",
        "constraints = {'type': 'eq', 'fun': lambda weights: np.sum(weights) - 1}\n",
        "bounds = [(0.1, 0.4) for _ in range(len(tickers))]\n",
        "initial_weights = np.array([1/len(tickers)]*len(tickers))\n",
        "\n",
        "optimized_results = minimize(neg_sharpe_ratio, initial_weights, args=(log_returns, cov_matrix, risk_free_rate), method='SLSQP', constraints=constraints, bounds=bounds)"
      ],
      "metadata": {
        "id": "EJD--rR4FA0H"
      },
      "execution_count": 419,
      "outputs": []
    },
    {
      "cell_type": "markdown",
      "source": [
        "**Section 7: Analyze the Optimal Portfolio**"
      ],
      "metadata": {
        "id": "iSkXqmgXFKsb"
      }
    },
    {
      "cell_type": "code",
      "source": [
        "optimal_weights = optimized_results.x\n",
        "\n",
        "print(\"Optimal Weights:\")\n",
        "for ticker, weight in zip(tickers, optimal_weights):\n",
        "    print(f\"{ticker}: {weight:.4f}\")\n",
        "\n",
        "optimal_portfolio_return = expected_return(optimal_weights, log_returns)\n",
        "optimal_portfolio_volatility = standard_deviation(optimal_weights, cov_matrix)\n",
        "optimal_sharpe_ratio = sharpe_ratio(optimal_weights, log_returns, cov_matrix, risk_free_rate)\n",
        "\n",
        "print(f\"Expected Annual Return: {optimal_portfolio_return:.4f}\")\n",
        "print(f\"Expected Volatility: {optimal_portfolio_volatility:.4f}\")\n",
        "print(f\"Sharpe Ratio: {optimal_sharpe_ratio:.4f}\")"
      ],
      "metadata": {
        "colab": {
          "base_uri": "https://localhost:8080/"
        },
        "id": "ltCweFDcFNO6",
        "outputId": "17fe426c-0f55-4aa5-aad2-1f927f4dafbc"
      },
      "execution_count": 420,
      "outputs": [
        {
          "output_type": "stream",
          "name": "stdout",
          "text": [
            "Optimal Weights:\n",
            "GLD: 0.1296\n",
            "^NSEI: 0.1000\n",
            "VGT: 0.1000\n",
            "BTC-USD: 0.1000\n",
            "HDFCBANK.NS: 0.1000\n",
            "RELIANCE.NS: 0.1000\n",
            "AAPL: 0.1000\n",
            "MSFT: 0.1000\n",
            "NVDA: 0.1704\n",
            "Expected Annual Return: 0.2549\n",
            "Expected Volatility: 0.2212\n",
            "Sharpe Ratio: 1.0616\n"
          ]
        }
      ]
    },
    {
      "cell_type": "markdown",
      "source": [
        "**Display the Final Portfolio in a Plot**"
      ],
      "metadata": {
        "id": "Y-UJqZXyFYul"
      }
    },
    {
      "cell_type": "code",
      "source": [
        "import matplotlib.pyplot as plt\n",
        "\n",
        "plt.figure(figsize=(10, 6))\n",
        "plt.bar(tickers, optimal_weights)\n",
        "\n",
        "plt.xlabel('Assets')\n",
        "plt.ylabel('Optimal Weights')\n",
        "plt.title('Optimal Portfolio Weights')\n",
        "\n",
        "plt.show()"
      ],
      "metadata": {
        "colab": {
          "base_uri": "https://localhost:8080/",
          "height": 564
        },
        "id": "zPxVKPkJFbBr",
        "outputId": "514f7470-23c7-4564-d29e-6370ca390e4d"
      },
      "execution_count": 421,
      "outputs": [
        {
          "output_type": "display_data",
          "data": {
            "text/plain": [
              "<Figure size 1000x600 with 1 Axes>"
            ],
            "image/png": "[encoded data removed]"
          },
          "metadata": {}
        }
      ]
    }
  ]
}